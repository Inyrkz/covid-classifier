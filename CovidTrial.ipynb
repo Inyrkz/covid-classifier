{
  "nbformat": 4,
  "nbformat_minor": 0,
  "metadata": {
    "accelerator": "GPU",
    "colab": {
      "name": "CovidTrial.ipynb",
      "provenance": [],
      "collapsed_sections": [],
      "authorship_tag": "ABX9TyPjrhGxAFrjZTgg3PrqNr4G",
      "include_colab_link": true
    },
    "kernelspec": {
      "display_name": "Python 3",
      "name": "python3"
    }
  },
  "cells": [
    {
      "cell_type": "markdown",
      "metadata": {
        "id": "view-in-github",
        "colab_type": "text"
      },
      "source": [
        "<a href=\"https://colab.research.google.com/github/Inyrkz/PneumoniaX/blob/Inyrkz-covid/CovidTrial.ipynb\" target=\"_parent\"><img src=\"https://colab.research.google.com/assets/colab-badge.svg\" alt=\"Open In Colab\"/></a>"
      ]
    },
    {
      "cell_type": "code",
      "metadata": {
        "id": "e6yDbBNWNIAY"
      },
      "source": [
        "# Importing Libraries\r\n",
        "import tensorflow as tf\r\n",
        "from tensorflow.keras.models import Sequential\r\n",
        "from tensorflow.keras.layers import Conv2D, MaxPooling2D, Dropout, Flatten, Dense\r\n",
        "from tensorflow.keras.optimizers import Adam\r\n",
        "from tensorflow.keras.preprocessing.image import ImageDataGenerator\r\n",
        "import numpy as np\r\n",
        "import matplotlib.pyplot as plt"
      ],
      "execution_count": 1,
      "outputs": []
    },
    {
      "cell_type": "code",
      "metadata": {
        "colab": {
          "base_uri": "https://localhost:8080/"
        },
        "id": "UwVfBFO2GBuZ",
        "outputId": "288996e5-400c-4063-cc38-6a8608ac16e2"
      },
      "source": [
        "# creating models directory\r\n",
        "import os\r\n",
        "if not os.path.isdir('models'):\r\n",
        "  os.mkdir('models')\r\n",
        "\r\n",
        "# checking TensorFlow version and GPU usage\r\n",
        "print('Tensorflow version:', tf.__version__)\r\n",
        "print('Is using GPU?', tf.test.is_gpu_available())"
      ],
      "execution_count": 2,
      "outputs": [
        {
          "output_type": "stream",
          "text": [
            "Tensorflow version: 2.4.1\n",
            "WARNING:tensorflow:From <ipython-input-2-61d346263b2d>:8: is_gpu_available (from tensorflow.python.framework.test_util) is deprecated and will be removed in a future version.\n",
            "Instructions for updating:\n",
            "Use `tf.config.list_physical_devices('GPU')` instead.\n",
            "Is using GPU? True\n"
          ],
          "name": "stdout"
        }
      ]
    },
    {
      "cell_type": "code",
      "metadata": {
        "colab": {
          "base_uri": "https://localhost:8080/"
        },
        "id": "8Xu-9WJiGGgl",
        "outputId": "e3b14556-41d5-4856-cbe3-88a0d95b8d72"
      },
      "source": [
        "# Clone and Explore Dataset\r\n",
        "!git clone https://github.com/education454/datasets.git"
      ],
      "execution_count": 3,
      "outputs": [
        {
          "output_type": "stream",
          "text": [
            "Cloning into 'datasets'...\n",
            "remote: Enumerating objects: 2301, done.\u001b[K\n",
            "remote: Total 2301 (delta 0), reused 0 (delta 0), pack-reused 2301\n",
            "Receiving objects: 100% (2301/2301), 1.31 GiB | 40.75 MiB/s, done.\n",
            "Checking out files: 100% (2295/2295), done.\n"
          ],
          "name": "stdout"
        }
      ]
    },
    {
      "cell_type": "code",
      "metadata": {
        "id": "gzF8rKidGKm9"
      },
      "source": [
        "# setting path to the main directory\r\n",
        "main_dir = \"/content/datasets/Data\""
      ],
      "execution_count": 4,
      "outputs": []
    },
    {
      "cell_type": "code",
      "metadata": {
        "id": "MciFZygnGM5Q"
      },
      "source": [
        "# Setting path to the training directory\r\n",
        "train_dir = os.path.join(main_dir, 'train')"
      ],
      "execution_count": 5,
      "outputs": []
    },
    {
      "cell_type": "code",
      "metadata": {
        "id": "9Ek6QzdMGM8A"
      },
      "source": [
        "# Setting path to the test directory\r\n",
        "test_dir = os.path.join(main_dir, 'test')"
      ],
      "execution_count": 6,
      "outputs": []
    },
    {
      "cell_type": "code",
      "metadata": {
        "id": "DQ288yIUGM-v"
      },
      "source": [
        "# Directory with train covid images\r\n",
        "train_covid_dir = os.path.join(train_dir, 'COVID19')\r\n",
        "\r\n",
        "# Directory with train normal images\r\n",
        "train_normal_dir = os.path.join(train_dir, 'NORMAL')"
      ],
      "execution_count": 7,
      "outputs": []
    },
    {
      "cell_type": "code",
      "metadata": {
        "id": "MjXlFd5GGNDC"
      },
      "source": [
        "# Directory with test covid image\r\n",
        "test_covid_dir = os.path.join(test_dir, 'COVID19')\r\n",
        "\r\n",
        "# Directory with test normal image\r\n",
        "test_normal_dir = os.path.join(test_dir, 'NORMAL')"
      ],
      "execution_count": 8,
      "outputs": []
    },
    {
      "cell_type": "code",
      "metadata": {
        "colab": {
          "base_uri": "https://localhost:8080/"
        },
        "id": "SO9SA24_GNID",
        "outputId": "57557cc4-9d98-44c1-a66f-8cbfa2992657"
      },
      "source": [
        "# Creating a list of filenames in each directory\r\n",
        "train_covid_names = os.listdir(train_covid_dir)\r\n",
        "print(train_covid_names[:10])  # printing a list of the first 10 names\r\n",
        "\r\n",
        "train_normal_names = os.listdir(train_normal_dir)\r\n",
        "print(train_normal_names[:10])\r\n",
        "\r\n",
        "test_covid_names = os.listdir(test_covid_dir)\r\n",
        "print(test_covid_names[:10])\r\n",
        "\r\n",
        "test_normal_names = os.listdir(test_normal_dir)\r\n",
        "print(test_normal_names[:10])"
      ],
      "execution_count": 9,
      "outputs": [
        {
          "output_type": "stream",
          "text": [
            "['COVID19(456).jpg', 'COVID19(366).jpg', 'COVID19(59).jpg', 'COVID19(461).jpg', 'COVID19(342).jpg', 'COVID19(151).jpg', 'COVID19(195).jpg', 'COVID19(72).jpg', 'COVID19(325).jpg', 'COVID19(60).jpg']\n",
            "['NORMAL(80).jpg', 'NORMAL(918).jpg', 'NORMAL(1312).jpg', 'NORMAL(1404).jpg', 'NORMAL(961).jpg', 'NORMAL(1412).jpg', 'NORMAL(311).jpg', 'NORMAL(829).jpg', 'NORMAL(1295).jpg', 'NORMAL(1407).jpg']\n",
            "['COVID19(396).jpg', 'COVID-19 (750).jpg', 'COVID19(433).jpg', 'COVID-19 (875).jpg', 'COVID-19 (791).jpg', 'COVID-19 (871).jpg', 'COVID19(385).jpg', 'COVID-19 (809).jpg', 'COVID-19 (371).jpg', 'COVID19(391).jpg']\n",
            "['NORMAL(1136).jpg', 'NORMAL(1165).jpg', 'NORMAL(889).jpg', 'NORMAL(731).jpg', 'NORMAL(1037).jpg', 'NORMAL(211).jpg', 'NORMAL(435).jpg', 'NORMAL(1287).jpg', 'NORMAL(10).jpg', 'NORMAL(151).jpg']\n"
          ],
          "name": "stdout"
        }
      ]
    },
    {
      "cell_type": "code",
      "metadata": {
        "colab": {
          "base_uri": "https://localhost:8080/"
        },
        "id": "tzX92IXoGNTG",
        "outputId": "20f49de8-1c3b-4c09-c5d6-25a1e6f54424"
      },
      "source": [
        "# Printing total number of images present in each set\r\n",
        "print('Total no of images in training set:', len(train_covid_names\r\n",
        "                                                + train_normal_names))\r\n",
        "\r\n",
        "print(\"Total no of images in test set:\", len(test_covid_names\r\n",
        "                                            + test_normal_names))"
      ],
      "execution_count": 10,
      "outputs": [
        {
          "output_type": "stream",
          "text": [
            "Total no of images in training set: 1811\n",
            "Total no of images in test set: 484\n"
          ],
          "name": "stdout"
        }
      ]
    },
    {
      "cell_type": "code",
      "metadata": {
        "colab": {
          "base_uri": "https://localhost:8080/",
          "height": 35
        },
        "id": "MWHJw_JuMSVo",
        "outputId": "2214c38e-589e-4499-f4e3-0524330ebc39"
      },
      "source": [
        "# Data Visualization\r\n",
        "import matplotlib.image as mpimg\r\n",
        "\r\n",
        "# Setting the no of rows and columns\r\n",
        "ROWS = 4\r\n",
        "COLS = 4\r\n",
        "\r\n",
        "# Setting the figure size\r\n",
        "fig = plt.gcf()\r\n",
        "# get current figure; allows us to get a reference to current figure\r\n",
        "# when using pyplot\r\n",
        "fig.set_size_inches(12, 12)"
      ],
      "execution_count": 11,
      "outputs": [
        {
          "output_type": "display_data",
          "data": {
            "text/plain": [
              "<Figure size 864x864 with 0 Axes>"
            ]
          },
          "metadata": {
            "tags": []
          }
        }
      ]
    },
    {
      "cell_type": "code",
      "metadata": {
        "colab": {
          "base_uri": "https://localhost:8080/"
        },
        "id": "9dlFitfpMbAg",
        "outputId": "db1eb692-858d-435f-8670-44cbc88c89ce"
      },
      "source": [
        "# get the directory to each image file in the trainset\r\n",
        "covid_pic = [os.path.join(train_covid_dir, filename) for filename in train_covid_names[:8]]\r\n",
        "normal_pic = [os.path.join(train_normal_dir, filename) for filename in train_normal_names[:8]]\r\n",
        "print(covid_pic)\r\n",
        "print(normal_pic)\r\n",
        "\r\n",
        "# merge covid and normal lists\r\n",
        "merged_list = covid_pic + normal_pic\r\n",
        "print(merged_list)"
      ],
      "execution_count": 12,
      "outputs": [
        {
          "output_type": "stream",
          "text": [
            "['/content/datasets/Data/train/COVID19/COVID19(456).jpg', '/content/datasets/Data/train/COVID19/COVID19(366).jpg', '/content/datasets/Data/train/COVID19/COVID19(59).jpg', '/content/datasets/Data/train/COVID19/COVID19(461).jpg', '/content/datasets/Data/train/COVID19/COVID19(342).jpg', '/content/datasets/Data/train/COVID19/COVID19(151).jpg', '/content/datasets/Data/train/COVID19/COVID19(195).jpg', '/content/datasets/Data/train/COVID19/COVID19(72).jpg']\n",
            "['/content/datasets/Data/train/NORMAL/NORMAL(80).jpg', '/content/datasets/Data/train/NORMAL/NORMAL(918).jpg', '/content/datasets/Data/train/NORMAL/NORMAL(1312).jpg', '/content/datasets/Data/train/NORMAL/NORMAL(1404).jpg', '/content/datasets/Data/train/NORMAL/NORMAL(961).jpg', '/content/datasets/Data/train/NORMAL/NORMAL(1412).jpg', '/content/datasets/Data/train/NORMAL/NORMAL(311).jpg', '/content/datasets/Data/train/NORMAL/NORMAL(829).jpg']\n",
            "['/content/datasets/Data/train/COVID19/COVID19(456).jpg', '/content/datasets/Data/train/COVID19/COVID19(366).jpg', '/content/datasets/Data/train/COVID19/COVID19(59).jpg', '/content/datasets/Data/train/COVID19/COVID19(461).jpg', '/content/datasets/Data/train/COVID19/COVID19(342).jpg', '/content/datasets/Data/train/COVID19/COVID19(151).jpg', '/content/datasets/Data/train/COVID19/COVID19(195).jpg', '/content/datasets/Data/train/COVID19/COVID19(72).jpg', '/content/datasets/Data/train/NORMAL/NORMAL(80).jpg', '/content/datasets/Data/train/NORMAL/NORMAL(918).jpg', '/content/datasets/Data/train/NORMAL/NORMAL(1312).jpg', '/content/datasets/Data/train/NORMAL/NORMAL(1404).jpg', '/content/datasets/Data/train/NORMAL/NORMAL(961).jpg', '/content/datasets/Data/train/NORMAL/NORMAL(1412).jpg', '/content/datasets/Data/train/NORMAL/NORMAL(311).jpg', '/content/datasets/Data/train/NORMAL/NORMAL(829).jpg']\n"
          ],
          "name": "stdout"
        }
      ]
    },
    {
      "cell_type": "code",
      "metadata": {
        "id": "EJcXzcIHMcUU",
        "colab": {
          "base_uri": "https://localhost:8080/",
          "height": 258
        },
        "outputId": "0280df00-1d61-40f0-bb74-1eaa193cd52d"
      },
      "source": [
        "# Plotting the images in the merged list\r\n",
        "for i, img_path in enumerate(merged_list):\r\n",
        "    # getting the filename from the directory\r\n",
        "    data = img_path.split('/', 6)[6]\r\n",
        "    # creating a subplot of images with the no. of rows and colums with index no\r\n",
        "    sp = plt.subplot(ROWS, COLS, i+1)\r\n",
        "    \r\n",
        "    # turn off axis\r\n",
        "    sp.axis('Off')\r\n",
        "    # reading the image data to an array\r\n",
        "    img = mpimg.imread(img_path)\r\n",
        "    # setting title of plot as the filename\r\n",
        "    sp.set_title(data, fontsize=6)\r\n",
        "    # displaying data as image\r\n",
        "    plt.imshow(img, cmap='gray')\r\n",
        "        \r\n",
        "plt.show()  # display the plot"
      ],
      "execution_count": 13,
      "outputs": [
        {
          "output_type": "display_data",
          "data": {
            "image/png": "[encoded data removed]",
            "text/plain": [
              "<Figure size 432x288 with 16 Axes>"
            ]
          },
          "metadata": {
            "tags": [],
            "needs_background": "light"
          }
        }
      ]
    },
    {
      "cell_type": "code",
      "metadata": {
        "id": "B8X_T_KAMcd1"
      },
      "source": [
        "# Data Preprocessing and Augumentation\r\n",
        "\r\n",
        "# Generate training, testing and validation batches\r\n",
        "dgen_train = ImageDataGenerator(rescale=1./255,\r\n",
        "                                validation_split=0.2,  # using 20% of training data for validation \r\n",
        "                                zoom_range=0.2,\r\n",
        "                                horizontal_flip=True)\r\n",
        "\r\n",
        "dgen_validation = ImageDataGenerator(rescale=1./255)\r\n",
        "\r\n",
        "dgen_test = ImageDataGenerator(rescale=1./255)"
      ],
      "execution_count": 14,
      "outputs": []
    },
    {
      "cell_type": "code",
      "metadata": {
        "id": "cPmqgh7TMcgW",
        "colab": {
          "base_uri": "https://localhost:8080/"
        },
        "outputId": "c0521701-e3da-48d2-a5e0-53f55a5f1144"
      },
      "source": [
        "# Awesome HyperParameters!!!\r\n",
        "TARGET_SIZE = (200, 200)\r\n",
        "BATCH_SIZE = 32\r\n",
        "CLASS_MODE = 'binary'  # for two classes; categorical for over 2 classes\r\n",
        "\r\n",
        "\r\n",
        "# Connecting the ImageDataGenerator objects to our dataset\r\n",
        "train_generator = dgen_train.flow_from_directory(train_dir,\r\n",
        "                                                 target_size=TARGET_SIZE,\r\n",
        "                                                 subset='training',\r\n",
        "                                                 batch_size=BATCH_SIZE,\r\n",
        "                                                 class_mode=CLASS_MODE)\r\n",
        "\r\n",
        "# CONFIRM if it should be dgen_validation.flow...\r\n",
        "validation_generator = dgen_train.flow_from_directory(train_dir,\r\n",
        "                                                      target_size=TARGET_SIZE,\r\n",
        "                                                      subset='validation',\r\n",
        "                                                      batch_size=BATCH_SIZE,\r\n",
        "                                                      class_mode=CLASS_MODE)\r\n",
        "\r\n",
        "test_generator = dgen_test.flow_from_directory(test_dir,\r\n",
        "                                               target_size=TARGET_SIZE,\r\n",
        "                                               batch_size=BATCH_SIZE,\r\n",
        "                                               class_mode=CLASS_MODE)"
      ],
      "execution_count": 15,
      "outputs": [
        {
          "output_type": "stream",
          "text": [
            "Found 1449 images belonging to 2 classes.\n",
            "Found 362 images belonging to 2 classes.\n",
            "Found 484 images belonging to 2 classes.\n"
          ],
          "name": "stdout"
        }
      ]
    },
    {
      "cell_type": "code",
      "metadata": {
        "colab": {
          "base_uri": "https://localhost:8080/"
        },
        "id": "2FRJQw9qMcju",
        "outputId": "23f8e077-14e4-4593-d8fe-5c12c4fa2b58"
      },
      "source": [
        "# Get the class indices\r\n",
        "train_generator.class_indices"
      ],
      "execution_count": 16,
      "outputs": [
        {
          "output_type": "execute_result",
          "data": {
            "text/plain": [
              "{'COVID19': 0, 'NORMAL': 1}"
            ]
          },
          "metadata": {
            "tags": []
          },
          "execution_count": 16
        }
      ]
    },
    {
      "cell_type": "code",
      "metadata": {
        "colab": {
          "base_uri": "https://localhost:8080/"
        },
        "id": "Z7krYY_kMcol",
        "outputId": "7c765db1-b208-40a9-8938-56a127c8ca7f"
      },
      "source": [
        "# Get the image shape\r\n",
        "train_generator.image_shape"
      ],
      "execution_count": 17,
      "outputs": [
        {
          "output_type": "execute_result",
          "data": {
            "text/plain": [
              "(200, 200, 3)"
            ]
          },
          "metadata": {
            "tags": []
          },
          "execution_count": 17
        }
      ]
    },
    {
      "cell_type": "code",
      "metadata": {
        "colab": {
          "base_uri": "https://localhost:8080/"
        },
        "id": "wQReco-0MSY4",
        "outputId": "2e1010d9-8d5b-4d72-fb03-85ec4b1fd3b3"
      },
      "source": [
        "# Building CNN Model\r\n",
        "model = Sequential()\r\n",
        "model.add(Conv2D(32, (5,5), padding='same', activation='relu',\r\n",
        "                input_shape=(200, 200, 3)))\r\n",
        "model.add(MaxPooling2D(pool_size=(2,2)))\r\n",
        "model.add(Dropout(0.2))\r\n",
        "\r\n",
        "model.add(Conv2D(64, (5,5), padding='same', activation='relu'))\r\n",
        "model.add(MaxPooling2D(pool_size=(2,2)))\r\n",
        "model.add(Dropout(0.2))\r\n",
        "\r\n",
        "model.add(Flatten())\r\n",
        "model.add(Dense(256, activation='relu'))\r\n",
        "model.add(Dropout(0.2))\r\n",
        "model.add(Dense(1, activation='sigmoid'))\r\n",
        "\r\n",
        "model.summary()"
      ],
      "execution_count": 18,
      "outputs": [
        {
          "output_type": "stream",
          "text": [
            "Model: \"sequential\"\n",
            "_________________________________________________________________\n",
            "Layer (type)                 Output Shape              Param #   \n",
            "=================================================================\n",
            "conv2d (Conv2D)              (None, 200, 200, 32)      2432      \n",
            "_________________________________________________________________\n",
            "max_pooling2d (MaxPooling2D) (None, 100, 100, 32)      0         \n",
            "_________________________________________________________________\n",
            "dropout (Dropout)            (None, 100, 100, 32)      0         \n",
            "_________________________________________________________________\n",
            "conv2d_1 (Conv2D)            (None, 100, 100, 64)      51264     \n",
            "_________________________________________________________________\n",
            "max_pooling2d_1 (MaxPooling2 (None, 50, 50, 64)        0         \n",
            "_________________________________________________________________\n",
            "dropout_1 (Dropout)          (None, 50, 50, 64)        0         \n",
            "_________________________________________________________________\n",
            "flatten (Flatten)            (None, 160000)            0         \n",
            "_________________________________________________________________\n",
            "dense (Dense)                (None, 256)               40960256  \n",
            "_________________________________________________________________\n",
            "dropout_2 (Dropout)          (None, 256)               0         \n",
            "_________________________________________________________________\n",
            "dense_1 (Dense)              (None, 1)                 257       \n",
            "=================================================================\n",
            "Total params: 41,014,209\n",
            "Trainable params: 41,014,209\n",
            "Non-trainable params: 0\n",
            "_________________________________________________________________\n"
          ],
          "name": "stdout"
        }
      ]
    },
    {
      "cell_type": "code",
      "metadata": {
        "id": "Zc456s3TMSfn"
      },
      "source": [
        "# Compile the Model\r\n",
        "model.compile(Adam(lr=0.001), loss='binary_crossentropy', metrics=['accuracy'])"
      ],
      "execution_count": 19,
      "outputs": []
    },
    {
      "cell_type": "code",
      "metadata": {
        "colab": {
          "base_uri": "https://localhost:8080/"
        },
        "id": "ukz4ZYg7MSkH",
        "outputId": "ca386aa9-aa5a-4c7b-9199-a07b56fa3b50"
      },
      "source": [
        "# Train the Model\r\n",
        "history = model.fit(train_generator,\r\n",
        "          epochs=30,\r\n",
        "          validation_data=validation_generator,\r\n",
        "          callbacks=[\r\n",
        "          # Stopping our training if val_accuracy doesn't improve after 20 epochs\r\n",
        "          tf.keras.callbacks.EarlyStopping(monitor='val_accuracy', \r\n",
        "                                           patience=20),\r\n",
        "          # Saving the best weights of our model in the model directory\r\n",
        "        \r\n",
        "          # We don't want to save just the weight, but also the model architecture\r\n",
        "          tf.keras.callbacks.ModelCheckpoint('models/model_{val_accuracy:.3f}.h5',\r\n",
        "                                           save_best_only=True,\r\n",
        "                                           save_weights_only=False,\r\n",
        "                                           monitor='val_accuracy'\r\n",
        "                                             )\r\n",
        "    ])\r\n"
      ],
      "execution_count": 20,
      "outputs": [
        {
          "output_type": "stream",
          "text": [
            "Epoch 1/30\n",
            "46/46 [==============================] - 55s 1s/step - loss: 2.7053 - accuracy: 0.7191 - val_loss: 0.1929 - val_accuracy: 0.9503\n",
            "Epoch 2/30\n",
            "46/46 [==============================] - 51s 1s/step - loss: 0.2352 - accuracy: 0.9017 - val_loss: 0.1797 - val_accuracy: 0.9337\n",
            "Epoch 3/30\n",
            "46/46 [==============================] - 51s 1s/step - loss: 0.1891 - accuracy: 0.9232 - val_loss: 0.1353 - val_accuracy: 0.9392\n",
            "Epoch 4/30\n",
            "46/46 [==============================] - 51s 1s/step - loss: 0.1281 - accuracy: 0.9543 - val_loss: 0.1325 - val_accuracy: 0.9613\n",
            "Epoch 5/30\n",
            "46/46 [==============================] - 53s 1s/step - loss: 0.1020 - accuracy: 0.9656 - val_loss: 0.1677 - val_accuracy: 0.9365\n",
            "Epoch 6/30\n",
            "46/46 [==============================] - 53s 1s/step - loss: 0.1540 - accuracy: 0.9451 - val_loss: 0.1256 - val_accuracy: 0.9475\n",
            "Epoch 7/30\n",
            "46/46 [==============================] - 53s 1s/step - loss: 0.2331 - accuracy: 0.9300 - val_loss: 0.1021 - val_accuracy: 0.9641\n",
            "Epoch 8/30\n",
            "46/46 [==============================] - 52s 1s/step - loss: 0.1123 - accuracy: 0.9632 - val_loss: 0.1114 - val_accuracy: 0.9613\n",
            "Epoch 9/30\n",
            "46/46 [==============================] - 52s 1s/step - loss: 0.1198 - accuracy: 0.9583 - val_loss: 0.1259 - val_accuracy: 0.9696\n",
            "Epoch 10/30\n",
            "46/46 [==============================] - 52s 1s/step - loss: 0.1506 - accuracy: 0.9410 - val_loss: 0.1027 - val_accuracy: 0.9641\n",
            "Epoch 11/30\n",
            "46/46 [==============================] - 52s 1s/step - loss: 0.1128 - accuracy: 0.9643 - val_loss: 0.1811 - val_accuracy: 0.9254\n",
            "Epoch 12/30\n",
            "46/46 [==============================] - 52s 1s/step - loss: 0.2304 - accuracy: 0.9173 - val_loss: 0.1619 - val_accuracy: 0.9448\n",
            "Epoch 13/30\n",
            "46/46 [==============================] - 52s 1s/step - loss: 0.1484 - accuracy: 0.9546 - val_loss: 0.1338 - val_accuracy: 0.9420\n",
            "Epoch 14/30\n",
            "46/46 [==============================] - 52s 1s/step - loss: 0.1280 - accuracy: 0.9521 - val_loss: 0.0919 - val_accuracy: 0.9641\n",
            "Epoch 15/30\n",
            "46/46 [==============================] - 52s 1s/step - loss: 0.0989 - accuracy: 0.9642 - val_loss: 0.1023 - val_accuracy: 0.9503\n",
            "Epoch 16/30\n",
            "46/46 [==============================] - 52s 1s/step - loss: 0.0900 - accuracy: 0.9703 - val_loss: 0.1034 - val_accuracy: 0.9641\n",
            "Epoch 17/30\n",
            "46/46 [==============================] - 51s 1s/step - loss: 0.1111 - accuracy: 0.9621 - val_loss: 0.0893 - val_accuracy: 0.9696\n",
            "Epoch 18/30\n",
            "46/46 [==============================] - 51s 1s/step - loss: 0.1013 - accuracy: 0.9599 - val_loss: 0.1126 - val_accuracy: 0.9696\n",
            "Epoch 19/30\n",
            "46/46 [==============================] - 51s 1s/step - loss: 0.0515 - accuracy: 0.9818 - val_loss: 0.0752 - val_accuracy: 0.9807\n",
            "Epoch 20/30\n",
            "46/46 [==============================] - 52s 1s/step - loss: 0.0436 - accuracy: 0.9846 - val_loss: 0.1255 - val_accuracy: 0.9586\n",
            "Epoch 21/30\n",
            "46/46 [==============================] - 52s 1s/step - loss: 0.0780 - accuracy: 0.9699 - val_loss: 0.0852 - val_accuracy: 0.9807\n",
            "Epoch 22/30\n",
            "46/46 [==============================] - 51s 1s/step - loss: 0.0593 - accuracy: 0.9701 - val_loss: 0.0736 - val_accuracy: 0.9779\n",
            "Epoch 23/30\n",
            "46/46 [==============================] - 51s 1s/step - loss: 0.0515 - accuracy: 0.9851 - val_loss: 0.0593 - val_accuracy: 0.9724\n",
            "Epoch 24/30\n",
            "46/46 [==============================] - 51s 1s/step - loss: 0.0496 - accuracy: 0.9802 - val_loss: 0.0657 - val_accuracy: 0.9751\n",
            "Epoch 25/30\n",
            "46/46 [==============================] - 51s 1s/step - loss: 0.0460 - accuracy: 0.9819 - val_loss: 0.0788 - val_accuracy: 0.9696\n",
            "Epoch 26/30\n",
            "46/46 [==============================] - 51s 1s/step - loss: 0.0614 - accuracy: 0.9778 - val_loss: 0.0814 - val_accuracy: 0.9751\n",
            "Epoch 27/30\n",
            "46/46 [==============================] - 52s 1s/step - loss: 0.0430 - accuracy: 0.9837 - val_loss: 0.0613 - val_accuracy: 0.9834\n",
            "Epoch 28/30\n",
            "46/46 [==============================] - 52s 1s/step - loss: 0.0352 - accuracy: 0.9881 - val_loss: 0.0944 - val_accuracy: 0.9724\n",
            "Epoch 29/30\n",
            "46/46 [==============================] - 51s 1s/step - loss: 0.0228 - accuracy: 0.9964 - val_loss: 0.0383 - val_accuracy: 0.9834\n",
            "Epoch 30/30\n",
            "46/46 [==============================] - 51s 1s/step - loss: 0.0366 - accuracy: 0.9857 - val_loss: 0.0601 - val_accuracy: 0.9890\n"
          ],
          "name": "stdout"
        }
      ]
    },
    {
      "cell_type": "code",
      "metadata": {
        "id": "AidZ6qqONCT2",
        "colab": {
          "base_uri": "https://localhost:8080/"
        },
        "outputId": "537dc54f-c433-444f-ba9f-ab9d54377b0d"
      },
      "source": [
        "# Performance Evaluation\r\n",
        "history.history.keys()"
      ],
      "execution_count": 21,
      "outputs": [
        {
          "output_type": "execute_result",
          "data": {
            "text/plain": [
              "dict_keys(['loss', 'accuracy', 'val_loss', 'val_accuracy'])"
            ]
          },
          "metadata": {
            "tags": []
          },
          "execution_count": 21
        }
      ]
    },
    {
      "cell_type": "code",
      "metadata": {
        "id": "x9-v37BMNCYR",
        "colab": {
          "base_uri": "https://localhost:8080/",
          "height": 313
        },
        "outputId": "321bb319-726b-41d6-f275-90318cb95ce8"
      },
      "source": [
        "# Plot graph between training and validation loss\r\n",
        "plt.plot(history.history['loss'])\r\n",
        "plt.plot(history.history['val_loss'])\r\n",
        "plt.legend(['Training', 'Validation'])\r\n",
        "plt.title('Training and Validation Losses')\r\n",
        "plt.xlabel('epoch')"
      ],
      "execution_count": 22,
      "outputs": [
        {
          "output_type": "execute_result",
          "data": {
            "text/plain": [
              "Text(0.5, 0, 'epoch')"
            ]
          },
          "metadata": {
            "tags": []
          },
          "execution_count": 22
        },
        {
          "output_type": "display_data",
          "data": {
            "image/png": "[encoded data removed]",
            "text/plain": [
              "<Figure size 432x288 with 1 Axes>"
            ]
          },
          "metadata": {
            "tags": [],
            "needs_background": "light"
          }
        }
      ]
    },
    {
      "cell_type": "code",
      "metadata": {
        "id": "aAqhuJWyNCbk",
        "colab": {
          "base_uri": "https://localhost:8080/",
          "height": 298
        },
        "outputId": "c7bbdd96-136f-4337-c8b2-9e361e197e73"
      },
      "source": [
        "# Plot graph between training and validation accuracy\r\n",
        "plt.plot(history.history['accuracy'])\r\n",
        "plt.plot(history.history['val_accuracy'])\r\n",
        "plt.legend(['Training', 'Validation'])\r\n",
        "plt.xlabel('epoch')"
      ],
      "execution_count": 23,
      "outputs": [
        {
          "output_type": "execute_result",
          "data": {
            "text/plain": [
              "Text(0.5, 0, 'epoch')"
            ]
          },
          "metadata": {
            "tags": []
          },
          "execution_count": 23
        },
        {
          "output_type": "display_data",
          "data": {
            "image/png": "[encoded data removed]",
            "text/plain": [
              "<Figure size 432x288 with 1 Axes>"
            ]
          },
          "metadata": {
            "tags": [],
            "needs_background": "light"
          }
        }
      ]
    },
    {
      "cell_type": "code",
      "metadata": {
        "id": "EQV9qZ-sNLUw",
        "colab": {
          "base_uri": "https://localhost:8080/"
        },
        "outputId": "7a8c9c5f-812a-45d6-aaea-0ad1857dfb41"
      },
      "source": [
        "# loading the best perfoming model\r\n",
        "model = tf.keras.models.load_model('/content/models/model_0.989.h5')\r\n",
        "\r\n",
        "# Getting test accuracy and loss\r\n",
        "test_loss, test_acc = model.evaluate(test_generator)\r\n",
        "print('Test loss: {} Test Acc: {}'.format(test_loss, test_acc))"
      ],
      "execution_count": 27,
      "outputs": [
        {
          "output_type": "stream",
          "text": [
            "16/16 [==============================] - 10s 634ms/step - loss: 0.0768 - accuracy: 0.9731\n",
            "Test loss: 0.07684161514043808 Test Acc: 0.9731404781341553\n"
          ],
          "name": "stdout"
        }
      ]
    },
    {
      "cell_type": "code",
      "metadata": {
        "id": "5kBfZpmPNLXm",
        "colab": {
          "base_uri": "https://localhost:8080/"
        },
        "outputId": "156f94ba-3e77-480f-a41b-2e452f4d1660"
      },
      "source": [
        "# Making a Single Prediction\r\n",
        "import numpy as np\r\n",
        "from keras.preprocessing import image\r\n",
        "\r\n",
        "# load and resize image to 200x200\r\n",
        "test_image = image.load_img('/content/datasets/Data/test/COVID19/COVID-19 (457).jpg',\r\n",
        "                            target_size=(200,200))\r\n",
        "\r\n",
        "# convert image to numpy array\r\n",
        "images = image.img_to_array(test_image)\r\n",
        "# expand dimension of image\r\n",
        "images = np.expand_dims(images, axis=0)\r\n",
        "# making prediction with model\r\n",
        "prediction = model.predict(images)\r\n",
        "    \r\n",
        "if prediction == 0:\r\n",
        "  print('COVID Detected')\r\n",
        "else:\r\n",
        "  print('Report is Normal')"
      ],
      "execution_count": 28,
      "outputs": [
        {
          "output_type": "stream",
          "text": [
            "COVID Detected\n"
          ],
          "name": "stdout"
        }
      ]
    }
  ]
}