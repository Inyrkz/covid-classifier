{
  "nbformat": 4,
  "nbformat_minor": 0,
  "metadata": {
    "colab": {
      "name": "pneuX_classifier.ipynb",
      "provenance": [],
      "collapsed_sections": [],
      "include_colab_link": true
    },
    "kernelspec": {
      "display_name": "Python 3",
      "language": "python",
      "name": "python3"
    },
    "language_info": {
      "codemirror_mode": {
        "name": "ipython",
        "version": 3
      },
      "file_extension": ".py",
      "mimetype": "text/x-python",
      "name": "python",
      "nbconvert_exporter": "python",
      "pygments_lexer": "ipython3",
      "version": "3.8.3"
    },
    "accelerator": "GPU"
  },
  "cells": [
    {
      "cell_type": "markdown",
      "metadata": {
        "id": "view-in-github",
        "colab_type": "text"
      },
      "source": [
        "<a href=\"https://colab.research.google.com/github/Inyrkz/covid-classifier/blob/main/pneuX_classifier.ipynb\" target=\"_parent\"><img src=\"https://colab.research.google.com/assets/colab-badge.svg\" alt=\"Open In Colab\"/></a>"
      ]
    },
    {
      "cell_type": "code",
      "metadata": {
        "colab": {
          "base_uri": "https://localhost:8080/"
        },
        "id": "_-FceTDKe7Nr",
        "outputId": "c42de29b-3b2f-416e-ccf6-7d7185b810ef"
      },
      "source": [
        "from google.colab import drive\n",
        "drive.mount('/content/drive')"
      ],
      "execution_count": null,
      "outputs": [
        {
          "output_type": "stream",
          "text": [
            "Mounted at /content/drive\n"
          ],
          "name": "stdout"
        }
      ]
    },
    {
      "cell_type": "code",
      "metadata": {
        "id": "xY0bippiBMLu"
      },
      "source": [
        "# Importing Libraries\n",
        "import tensorflow as tf\n",
        "from tensorflow.keras.models import Sequential\n",
        "from tensorflow.keras.layers import Conv2D, MaxPooling2D, Dropout, Flatten, Dense\n",
        "from tensorflow.keras.optimizers import Adam\n",
        "from tensorflow.keras.preprocessing.image import ImageDataGenerator\n",
        "from keras_visualizer import visualizer\n",
        "import numpy as np\n",
        "import matplotlib.pyplot as plt"
      ],
      "execution_count": null,
      "outputs": []
    },
    {
      "cell_type": "code",
      "metadata": {
        "colab": {
          "base_uri": "https://localhost:8080/"
        },
        "id": "5O2mtAW9Cuwe",
        "outputId": "f9b2374c-dbbc-48a9-c32a-041662485296"
      },
      "source": [
        "# creating models directory\n",
        "import os\n",
        "if not os.path.isdir('models'):\n",
        "  os.mkdir('models')\n",
        "\n",
        "# checking TensorFlow version and GPU usage\n",
        "print('Tensorflow version:', tf.__version__)\n",
        "print('Is using GPU?', tf.test.is_gpu_available())"
      ],
      "execution_count": null,
      "outputs": [
        {
          "output_type": "stream",
          "text": [
            "Tensorflow version: 2.4.1\n",
            "WARNING:tensorflow:From <ipython-input-5-61d346263b2d>:8: is_gpu_available (from tensorflow.python.framework.test_util) is deprecated and will be removed in a future version.\n",
            "Instructions for updating:\n",
            "Use `tf.config.list_physical_devices('GPU')` instead.\n",
            "Is using GPU? True\n"
          ],
          "name": "stdout"
        }
      ]
    },
    {
      "cell_type": "code",
      "metadata": {
        "id": "3sFO4FMCBMM0"
      },
      "source": [
        "# setting path to the main directory\n",
        "main_dir = \"/content/drive/My Drive/Mydataset/Project/chest_xray/chest_xray\""
      ],
      "execution_count": null,
      "outputs": []
    },
    {
      "cell_type": "code",
      "metadata": {
        "id": "gAmDtBRcBMNB"
      },
      "source": [
        "# Setting path to the training directory\n",
        "train_dir = os.path.join(main_dir, 'train')"
      ],
      "execution_count": null,
      "outputs": []
    },
    {
      "cell_type": "code",
      "metadata": {
        "id": "Ve35N-B3BMNM"
      },
      "source": [
        "# Setting path to the test directory\n",
        "test_dir = os.path.join(main_dir, 'test')"
      ],
      "execution_count": null,
      "outputs": []
    },
    {
      "cell_type": "code",
      "metadata": {
        "id": "v0MKeEWnBMNb"
      },
      "source": [
        "# Directory with train covid images\n",
        "train_pneumo_dir = os.path.join(train_dir, 'PNEUMONIA')\n",
        "\n",
        "# Directory with train normal images\n",
        "train_normal_dir = os.path.join(train_dir, 'NORMAL')"
      ],
      "execution_count": null,
      "outputs": []
    },
    {
      "cell_type": "code",
      "metadata": {
        "id": "VEVflvt1BMNl"
      },
      "source": [
        "# Directory with test covid image\n",
        "test_pneumo_dir = os.path.join(test_dir, 'PNEUMONIA')\n",
        "\n",
        "# Directory with test normal image\n",
        "test_normal_dir = os.path.join(test_dir, 'NORMAL')"
      ],
      "execution_count": null,
      "outputs": []
    },
    {
      "cell_type": "code",
      "metadata": {
        "colab": {
          "base_uri": "https://localhost:8080/"
        },
        "id": "9G3fkJDbBMNy",
        "outputId": "047b684f-3975-485d-ad92-44e995e927f7"
      },
      "source": [
        "# Creating a list of filenames in each directory\n",
        "train_pneumo_names = os.listdir(train_pneumo_dir)\n",
        "print(train_pneumo_names[:10])  # printing a list of the first 10 names\n",
        "\n",
        "train_normal_names = os.listdir(train_normal_dir)\n",
        "print(train_normal_names[:10])\n",
        "\n",
        "test_pneumo_names = os.listdir(test_pneumo_dir)\n",
        "print(test_pneumo_names[:10])\n",
        "\n",
        "test_normal_names = os.listdir(test_normal_dir)\n",
        "print(test_normal_names[:10])"
      ],
      "execution_count": null,
      "outputs": [
        {
          "output_type": "stream",
          "text": [
            "['person521_virus_1040.jpeg', 'person518_bacteria_2198.jpeg', 'person539_virus_1069.jpeg', 'person537_bacteria_2262.jpeg', 'person549_bacteria_2305.jpeg', 'person541_bacteria_2275.jpeg', 'person527_bacteria_2225.jpeg', 'person507_bacteria_2141.jpeg', 'person518_bacteria_2197.jpeg', 'person541_virus_1071.jpeg']\n",
            "['IM-0531-0001-0001.jpeg', 'IM-0516-0001.jpeg', 'IM-0525-0001.jpeg', 'IM-0511-0001.jpeg', 'IM-0522-0001.jpeg', 'IM-0517-0001.jpeg', 'IM-0520-0001.jpeg', 'IM-0519-0001-0002.jpeg', 'IM-0527-0001.jpeg', 'IM-0523-0001-0001.jpeg']\n",
            "['person100_bacteria_480.jpeg', 'person101_bacteria_484.jpeg', 'person109_bacteria_519.jpeg', 'person100_bacteria_482.jpeg', 'person109_bacteria_513.jpeg', 'person101_bacteria_485.jpeg', 'person108_bacteria_506.jpeg', 'person100_bacteria_481.jpeg', 'person104_bacteria_491.jpeg', 'person108_bacteria_511.jpeg']\n",
            "['IM-0023-0001.jpeg', 'IM-0011-0001.jpeg', 'IM-0013-0001.jpeg', 'IM-0029-0001.jpeg', 'IM-0005-0001.jpeg', 'IM-0016-0001.jpeg', 'IM-0007-0001.jpeg', 'IM-0009-0001.jpeg', 'IM-0022-0001.jpeg', 'IM-0017-0001.jpeg']\n"
          ],
          "name": "stdout"
        }
      ]
    },
    {
      "cell_type": "code",
      "metadata": {
        "colab": {
          "base_uri": "https://localhost:8080/"
        },
        "id": "sAc_1I9_BMN-",
        "outputId": "8fd19092-d960-485d-d1c7-ecffd602e9dd"
      },
      "source": [
        "# Printing total number of images present in each set\n",
        "print('Total no of images in training set:', len(train_pneumo_names\n",
        "                                                + train_normal_names))\n",
        "\n",
        "print(\"Total no of images in test set:\", len(test_pneumo_names\n",
        "                                            + test_normal_names))"
      ],
      "execution_count": null,
      "outputs": [
        {
          "output_type": "stream",
          "text": [
            "Total no of images in training set: 5218\n",
            "Total no of images in test set: 640\n"
          ],
          "name": "stdout"
        }
      ]
    },
    {
      "cell_type": "code",
      "metadata": {
        "colab": {
          "base_uri": "https://localhost:8080/"
        },
        "id": "wqa8U7kAz_bP",
        "outputId": "475fe806-b09e-4452-c8ba-cc811f512cf5"
      },
      "source": [
        "# Printing total number of pneumo images in dataset\n",
        "print('Total no of pneumo images:', len(train_pneumo_names + test_pneumo_names))\n",
        "\n",
        "# Printing total number of normal images in dataset\n",
        "print(\"Total no of normal images:\", len(train_normal_names + test_normal_names))"
      ],
      "execution_count": null,
      "outputs": [
        {
          "output_type": "stream",
          "text": [
            "Total no of pneumo images: 4274\n",
            "Total no of normal images: 1584\n"
          ],
          "name": "stdout"
        }
      ]
    },
    {
      "cell_type": "code",
      "metadata": {
        "colab": {
          "base_uri": "https://localhost:8080/",
          "height": 34
        },
        "id": "2lvznkA9BMOJ",
        "outputId": "9633c043-f557-4889-918a-2580ad952c2e"
      },
      "source": [
        "# Data Visualization\n",
        "import matplotlib.image as mpimg\n",
        "\n",
        "# Setting the no of rows and columns\n",
        "ROWS = 4\n",
        "COLS = 4\n",
        "\n",
        "# Setting the figure size\n",
        "fig = plt.gcf()\n",
        "# get current figure; allows us to get a reference to current figure\n",
        "# when using pyplot\n",
        "fig.set_size_inches(16, 16)"
      ],
      "execution_count": null,
      "outputs": [
        {
          "output_type": "display_data",
          "data": {
            "text/plain": [
              "<Figure size 1152x1152 with 0 Axes>"
            ]
          },
          "metadata": {
            "tags": []
          }
        }
      ]
    },
    {
      "cell_type": "code",
      "metadata": {
        "colab": {
          "base_uri": "https://localhost:8080/"
        },
        "id": "Tvqdb64TBMOg",
        "outputId": "5d5e7aaf-69a5-4155-a41d-c94650b374ef"
      },
      "source": [
        "# get the directory to each image file in the trainset\n",
        "pneumo_pic = [os.path.join(train_pneumo_dir, filename) for filename in train_pneumo_names[:8]]\n",
        "normal_pic = [os.path.join(train_normal_dir, filename) for filename in train_normal_names[:8]]\n",
        "print(pneumo_pic)\n",
        "print(normal_pic)\n",
        "\n",
        "# merge pneumo and normal lists\n",
        "merged_list = pneumo_pic + normal_pic\n",
        "print(merged_list)"
      ],
      "execution_count": null,
      "outputs": [
        {
          "output_type": "stream",
          "text": [
            "['/content/drive/My Drive/Mydataset/Project/chest_xray/chest_xray/train/PNEUMONIA/person521_virus_1040.jpeg', '/content/drive/My Drive/Mydataset/Project/chest_xray/chest_xray/train/PNEUMONIA/person518_bacteria_2198.jpeg', '/content/drive/My Drive/Mydataset/Project/chest_xray/chest_xray/train/PNEUMONIA/person539_virus_1069.jpeg', '/content/drive/My Drive/Mydataset/Project/chest_xray/chest_xray/train/PNEUMONIA/person537_bacteria_2262.jpeg', '/content/drive/My Drive/Mydataset/Project/chest_xray/chest_xray/train/PNEUMONIA/person549_bacteria_2305.jpeg', '/content/drive/My Drive/Mydataset/Project/chest_xray/chest_xray/train/PNEUMONIA/person541_bacteria_2275.jpeg', '/content/drive/My Drive/Mydataset/Project/chest_xray/chest_xray/train/PNEUMONIA/person527_bacteria_2225.jpeg', '/content/drive/My Drive/Mydataset/Project/chest_xray/chest_xray/train/PNEUMONIA/person507_bacteria_2141.jpeg']\n",
            "['/content/drive/My Drive/Mydataset/Project/chest_xray/chest_xray/train/NORMAL/IM-0531-0001-0001.jpeg', '/content/drive/My Drive/Mydataset/Project/chest_xray/chest_xray/train/NORMAL/IM-0516-0001.jpeg', '/content/drive/My Drive/Mydataset/Project/chest_xray/chest_xray/train/NORMAL/IM-0525-0001.jpeg', '/content/drive/My Drive/Mydataset/Project/chest_xray/chest_xray/train/NORMAL/IM-0511-0001.jpeg', '/content/drive/My Drive/Mydataset/Project/chest_xray/chest_xray/train/NORMAL/IM-0522-0001.jpeg', '/content/drive/My Drive/Mydataset/Project/chest_xray/chest_xray/train/NORMAL/IM-0517-0001.jpeg', '/content/drive/My Drive/Mydataset/Project/chest_xray/chest_xray/train/NORMAL/IM-0520-0001.jpeg', '/content/drive/My Drive/Mydataset/Project/chest_xray/chest_xray/train/NORMAL/IM-0519-0001-0002.jpeg']\n",
            "['/content/drive/My Drive/Mydataset/Project/chest_xray/chest_xray/train/PNEUMONIA/person521_virus_1040.jpeg', '/content/drive/My Drive/Mydataset/Project/chest_xray/chest_xray/train/PNEUMONIA/person518_bacteria_2198.jpeg', '/content/drive/My Drive/Mydataset/Project/chest_xray/chest_xray/train/PNEUMONIA/person539_virus_1069.jpeg', '/content/drive/My Drive/Mydataset/Project/chest_xray/chest_xray/train/PNEUMONIA/person537_bacteria_2262.jpeg', '/content/drive/My Drive/Mydataset/Project/chest_xray/chest_xray/train/PNEUMONIA/person549_bacteria_2305.jpeg', '/content/drive/My Drive/Mydataset/Project/chest_xray/chest_xray/train/PNEUMONIA/person541_bacteria_2275.jpeg', '/content/drive/My Drive/Mydataset/Project/chest_xray/chest_xray/train/PNEUMONIA/person527_bacteria_2225.jpeg', '/content/drive/My Drive/Mydataset/Project/chest_xray/chest_xray/train/PNEUMONIA/person507_bacteria_2141.jpeg', '/content/drive/My Drive/Mydataset/Project/chest_xray/chest_xray/train/NORMAL/IM-0531-0001-0001.jpeg', '/content/drive/My Drive/Mydataset/Project/chest_xray/chest_xray/train/NORMAL/IM-0516-0001.jpeg', '/content/drive/My Drive/Mydataset/Project/chest_xray/chest_xray/train/NORMAL/IM-0525-0001.jpeg', '/content/drive/My Drive/Mydataset/Project/chest_xray/chest_xray/train/NORMAL/IM-0511-0001.jpeg', '/content/drive/My Drive/Mydataset/Project/chest_xray/chest_xray/train/NORMAL/IM-0522-0001.jpeg', '/content/drive/My Drive/Mydataset/Project/chest_xray/chest_xray/train/NORMAL/IM-0517-0001.jpeg', '/content/drive/My Drive/Mydataset/Project/chest_xray/chest_xray/train/NORMAL/IM-0520-0001.jpeg', '/content/drive/My Drive/Mydataset/Project/chest_xray/chest_xray/train/NORMAL/IM-0519-0001-0002.jpeg']\n"
          ],
          "name": "stdout"
        }
      ]
    },
    {
      "cell_type": "code",
      "metadata": {
        "colab": {
          "base_uri": "https://localhost:8080/",
          "height": 262
        },
        "id": "JUdpW3cEBMPF",
        "outputId": "67ddb8b9-70a6-4de8-b3fd-820786b8329b"
      },
      "source": [
        "# Plotting the images in the merged list\n",
        "for i, img_path in enumerate(merged_list):\n",
        "    # getting the filename from the directory\n",
        "    data = img_path.split('/', 9)[9]\n",
        "    # creating a subplot of images with the no. of rows and colums with index no\n",
        "    sp = plt.subplot(ROWS, COLS, i+1)\n",
        "    # turn off axis\n",
        "    sp.axis('Off')\n",
        "    # reading the image data to an array\n",
        "    img = mpimg.imread(img_path)\n",
        "    # setting title of plot as the filename\n",
        "    sp.set_title(data, fontsize=10)\n",
        "    # displaying data as image\n",
        "    plt.imshow(img, cmap='gray')\n",
        "    \n",
        "plt.show()  # display the plot"
      ],
      "execution_count": null,
      "outputs": [
        {
          "output_type": "display_data",
          "data": {
            "image/png": "[encoded data removed]",
            "text/plain": [
              "<Figure size 432x288 with 16 Axes>"
            ]
          },
          "metadata": {
            "tags": [],
            "needs_background": "light"
          }
        }
      ]
    },
    {
      "cell_type": "code",
      "metadata": {
        "id": "G0CFjfILBMPd"
      },
      "source": [
        "# Data Preprocessing and Augumentation\n",
        "\n",
        "# Generate training, testing and validation batches\n",
        "dgen_train = ImageDataGenerator(rescale=1./255,\n",
        "                                zoom_range=0.2,\n",
        "                                horizontal_flip=True)\n",
        "\n",
        "dgen_test = ImageDataGenerator(rescale=1./255)"
      ],
      "execution_count": null,
      "outputs": []
    },
    {
      "cell_type": "code",
      "metadata": {
        "colab": {
          "base_uri": "https://localhost:8080/"
        },
        "id": "WVyOLJi-BMQJ",
        "outputId": "7668008c-e8c6-47cd-d394-e3b609a6c482"
      },
      "source": [
        "# Awesome HyperParameters!!!\n",
        "TARGET_SIZE = (200, 200)\n",
        "BATCH_SIZE = 32\n",
        "CLASS_MODE = 'binary'\n",
        "\n",
        "\n",
        "# Connecting the ImageDataGenerator objects to our dataset\n",
        "train_generator = dgen_train.flow_from_directory(train_dir,\n",
        "                                                 target_size=TARGET_SIZE,\n",
        "                                                 batch_size=BATCH_SIZE,\n",
        "                                                 class_mode=CLASS_MODE)\n",
        "\n",
        "test_generator = dgen_test.flow_from_directory(test_dir,\n",
        "                                               target_size=TARGET_SIZE,\n",
        "                                               batch_size=BATCH_SIZE,\n",
        "                                               class_mode=CLASS_MODE)"
      ],
      "execution_count": null,
      "outputs": [
        {
          "output_type": "stream",
          "text": [
            "Found 5216 images belonging to 2 classes.\n",
            "Found 640 images belonging to 2 classes.\n"
          ],
          "name": "stdout"
        }
      ]
    },
    {
      "cell_type": "code",
      "metadata": {
        "colab": {
          "base_uri": "https://localhost:8080/"
        },
        "id": "B82LbiesBMQa",
        "outputId": "0f1dd0e4-3f40-4c76-8c9e-361098b1072f"
      },
      "source": [
        "# Get the class indices\n",
        "train_generator.class_indices"
      ],
      "execution_count": null,
      "outputs": [
        {
          "output_type": "execute_result",
          "data": {
            "text/plain": [
              "{'NORMAL': 0, 'PNEUMONIA': 1}"
            ]
          },
          "metadata": {
            "tags": []
          },
          "execution_count": 19
        }
      ]
    },
    {
      "cell_type": "code",
      "metadata": {
        "colab": {
          "base_uri": "https://localhost:8080/"
        },
        "id": "KPWDXOM8BMQ2",
        "outputId": "54acf669-0e91-4826-92f9-830c5c2fe895"
      },
      "source": [
        "# Get the image shape\n",
        "train_generator.image_shape"
      ],
      "execution_count": null,
      "outputs": [
        {
          "output_type": "execute_result",
          "data": {
            "text/plain": [
              "(200, 200, 3)"
            ]
          },
          "metadata": {
            "tags": []
          },
          "execution_count": 20
        }
      ]
    },
    {
      "cell_type": "code",
      "metadata": {
        "colab": {
          "base_uri": "https://localhost:8080/"
        },
        "id": "MVONM4FDBMRB",
        "outputId": "bda4bf82-d427-4d4d-88a3-827fead30b29"
      },
      "source": [
        "# Building CNN Model\n",
        "model = Sequential()\n",
        "model.add(Conv2D(32, (3,3), padding='same', activation='relu',\n",
        "                input_shape=(200, 200, 3)))\n",
        "model.add(MaxPooling2D(pool_size=(2,2)))\n",
        "\n",
        "model.add(Conv2D(64, (3,3), padding='same', activation='relu'))\n",
        "model.add(MaxPooling2D(pool_size=(2,2)))\n",
        "\n",
        "model.add(Conv2D(128, (3,3), padding='same', activation='relu'))\n",
        "model.add(MaxPooling2D(pool_size=(2,2)))\n",
        "\n",
        "model.add(Conv2D(128, (3,3), padding='same', activation='relu'))\n",
        "model.add(MaxPooling2D(pool_size=(2,2)))\n",
        "\n",
        "model.add(Flatten())\n",
        "model.add(Dropout(0.5))\n",
        "model.add(Dense(512, activation='relu'))\n",
        "model.add(Dense(1, activation='sigmoid'))\n",
        "\n",
        "model.summary()"
      ],
      "execution_count": null,
      "outputs": [
        {
          "output_type": "stream",
          "text": [
            "Model: \"sequential\"\n",
            "_________________________________________________________________\n",
            "Layer (type)                 Output Shape              Param #   \n",
            "=================================================================\n",
            "conv2d (Conv2D)              (None, 200, 200, 32)      896       \n",
            "_________________________________________________________________\n",
            "max_pooling2d (MaxPooling2D) (None, 100, 100, 32)      0         \n",
            "_________________________________________________________________\n",
            "conv2d_1 (Conv2D)            (None, 100, 100, 64)      18496     \n",
            "_________________________________________________________________\n",
            "max_pooling2d_1 (MaxPooling2 (None, 50, 50, 64)        0         \n",
            "_________________________________________________________________\n",
            "conv2d_2 (Conv2D)            (None, 50, 50, 128)       73856     \n",
            "_________________________________________________________________\n",
            "max_pooling2d_2 (MaxPooling2 (None, 25, 25, 128)       0         \n",
            "_________________________________________________________________\n",
            "conv2d_3 (Conv2D)            (None, 25, 25, 128)       147584    \n",
            "_________________________________________________________________\n",
            "max_pooling2d_3 (MaxPooling2 (None, 12, 12, 128)       0         \n",
            "_________________________________________________________________\n",
            "flatten (Flatten)            (None, 18432)             0         \n",
            "_________________________________________________________________\n",
            "dropout (Dropout)            (None, 18432)             0         \n",
            "_________________________________________________________________\n",
            "dense (Dense)                (None, 512)               9437696   \n",
            "_________________________________________________________________\n",
            "dense_1 (Dense)              (None, 1)                 513       \n",
            "=================================================================\n",
            "Total params: 9,679,041\n",
            "Trainable params: 9,679,041\n",
            "Non-trainable params: 0\n",
            "_________________________________________________________________\n"
          ],
          "name": "stdout"
        }
      ]
    },
    {
      "cell_type": "code",
      "metadata": {
        "id": "_3YjB3iVBMRQ"
      },
      "source": [
        "# Compile the Model\n",
        "model.compile(Adam(lr=0.001), loss='binary_crossentropy', metrics=['accuracy', tf.keras.metrics.Precision(), tf.keras.metrics.Recall()])"
      ],
      "execution_count": null,
      "outputs": []
    },
    {
      "cell_type": "code",
      "metadata": {
        "colab": {
          "base_uri": "https://localhost:8080/",
          "height": 513
        },
        "id": "5d-ozz6HBMRo",
        "outputId": "a0bcd4e2-7f5c-4eea-c77e-a25684e773ad"
      },
      "source": [
        "# Train the Model\n",
        "history = model.fit(train_generator,\n",
        "          epochs=80,\n",
        "          validation_data=test_generator,\n",
        "          callbacks=[\n",
        "          # Stopping our training if val_accuracy doesn't improve after 20 epochs\n",
        "          tf.keras.callbacks.EarlyStopping(monitor='val_accuracy', \n",
        "                                           patience=20),\n",
        "          # Saving the best weights of our model in the model directory\n",
        "        \n",
        "          # We don't want to save just the weight, but also the model architecture\n",
        "          tf.keras.callbacks.ModelCheckpoint('models/model_{val_accuracy:.3f}.h5',\n",
        "                                           save_best_only=True,\n",
        "                                           save_weights_only=False,\n",
        "                                           monitor='val_accuracy'\n",
        "                                             )\n",
        "    ])\n"
      ],
      "execution_count": null,
      "outputs": [
        {
          "output_type": "stream",
          "text": [
            "Epoch 1/80\n",
            "163/163 [==============================] - 1910s 12s/step - loss: 0.5666 - accuracy: 0.7634 - precision: 0.7825 - recall: 0.9465 - val_loss: 0.5521 - val_accuracy: 0.7688 - val_precision: 0.7358 - val_recall: 0.9799\n",
            "Epoch 2/80\n",
            "163/163 [==============================] - 574s 4s/step - loss: 0.2403 - accuracy: 0.9017 - precision: 0.9254 - recall: 0.9444 - val_loss: 0.3192 - val_accuracy: 0.8562 - val_precision: 0.9203 - val_recall: 0.8417\n",
            "Epoch 3/80\n",
            " 56/163 [=========>....................] - ETA: 6:02 - loss: 0.2381 - accuracy: 0.8968 - precision: 0.9270 - recall: 0.9355"
          ],
          "name": "stdout"
        },
        {
          "output_type": "error",
          "ename": "KeyboardInterrupt",
          "evalue": "ignored",
          "traceback": [
            "\u001b[0;31m---------------------------------------------------------------------------\u001b[0m",
            "\u001b[0;31mKeyboardInterrupt\u001b[0m                         Traceback (most recent call last)",
            "\u001b[0;32m<ipython-input-22-e58dfc489b3f>\u001b[0m in \u001b[0;36m<module>\u001b[0;34m()\u001b[0m\n\u001b[1;32m     13\u001b[0m                                            \u001b[0msave_best_only\u001b[0m\u001b[0;34m=\u001b[0m\u001b[0;32mTrue\u001b[0m\u001b[0;34m,\u001b[0m\u001b[0;34m\u001b[0m\u001b[0;34m\u001b[0m\u001b[0m\n\u001b[1;32m     14\u001b[0m                                            \u001b[0msave_weights_only\u001b[0m\u001b[0;34m=\u001b[0m\u001b[0;32mFalse\u001b[0m\u001b[0;34m,\u001b[0m\u001b[0;34m\u001b[0m\u001b[0;34m\u001b[0m\u001b[0m\n\u001b[0;32m---> 15\u001b[0;31m                                            \u001b[0mmonitor\u001b[0m\u001b[0;34m=\u001b[0m\u001b[0;34m'val_accuracy'\u001b[0m\u001b[0;34m\u001b[0m\u001b[0;34m\u001b[0m\u001b[0m\n\u001b[0m\u001b[1;32m     16\u001b[0m                                              )\n\u001b[1;32m     17\u001b[0m     ])\n",
            "\u001b[0;32m/usr/local/lib/python3.7/dist-packages/tensorflow/python/keras/engine/training.py\u001b[0m in \u001b[0;36mfit\u001b[0;34m(self, x, y, batch_size, epochs, verbose, callbacks, validation_split, validation_data, shuffle, class_weight, sample_weight, initial_epoch, steps_per_epoch, validation_steps, validation_batch_size, validation_freq, max_queue_size, workers, use_multiprocessing)\u001b[0m\n\u001b[1;32m   1098\u001b[0m                 _r=1):\n\u001b[1;32m   1099\u001b[0m               \u001b[0mcallbacks\u001b[0m\u001b[0;34m.\u001b[0m\u001b[0mon_train_batch_begin\u001b[0m\u001b[0;34m(\u001b[0m\u001b[0mstep\u001b[0m\u001b[0;34m)\u001b[0m\u001b[0;34m\u001b[0m\u001b[0;34m\u001b[0m\u001b[0m\n\u001b[0;32m-> 1100\u001b[0;31m               \u001b[0mtmp_logs\u001b[0m \u001b[0;34m=\u001b[0m \u001b[0mself\u001b[0m\u001b[0;34m.\u001b[0m\u001b[0mtrain_function\u001b[0m\u001b[0;34m(\u001b[0m\u001b[0miterator\u001b[0m\u001b[0;34m)\u001b[0m\u001b[0;34m\u001b[0m\u001b[0;34m\u001b[0m\u001b[0m\n\u001b[0m\u001b[1;32m   1101\u001b[0m               \u001b[0;32mif\u001b[0m \u001b[0mdata_handler\u001b[0m\u001b[0;34m.\u001b[0m\u001b[0mshould_sync\u001b[0m\u001b[0;34m:\u001b[0m\u001b[0;34m\u001b[0m\u001b[0;34m\u001b[0m\u001b[0m\n\u001b[1;32m   1102\u001b[0m                 \u001b[0mcontext\u001b[0m\u001b[0;34m.\u001b[0m\u001b[0masync_wait\u001b[0m\u001b[0;34m(\u001b[0m\u001b[0;34m)\u001b[0m\u001b[0;34m\u001b[0m\u001b[0;34m\u001b[0m\u001b[0m\n",
            "\u001b[0;32m/usr/local/lib/python3.7/dist-packages/tensorflow/python/eager/def_function.py\u001b[0m in \u001b[0;36m__call__\u001b[0;34m(self, *args, **kwds)\u001b[0m\n\u001b[1;32m    826\u001b[0m     \u001b[0mtracing_count\u001b[0m \u001b[0;34m=\u001b[0m \u001b[0mself\u001b[0m\u001b[0;34m.\u001b[0m\u001b[0mexperimental_get_tracing_count\u001b[0m\u001b[0;34m(\u001b[0m\u001b[0;34m)\u001b[0m\u001b[0;34m\u001b[0m\u001b[0;34m\u001b[0m\u001b[0m\n\u001b[1;32m    827\u001b[0m     \u001b[0;32mwith\u001b[0m \u001b[0mtrace\u001b[0m\u001b[0;34m.\u001b[0m\u001b[0mTrace\u001b[0m\u001b[0;34m(\u001b[0m\u001b[0mself\u001b[0m\u001b[0;34m.\u001b[0m\u001b[0m_name\u001b[0m\u001b[0;34m)\u001b[0m \u001b[0;32mas\u001b[0m \u001b[0mtm\u001b[0m\u001b[0;34m:\u001b[0m\u001b[0;34m\u001b[0m\u001b[0;34m\u001b[0m\u001b[0m\n\u001b[0;32m--> 828\u001b[0;31m       \u001b[0mresult\u001b[0m \u001b[0;34m=\u001b[0m \u001b[0mself\u001b[0m\u001b[0;34m.\u001b[0m\u001b[0m_call\u001b[0m\u001b[0;34m(\u001b[0m\u001b[0;34m*\u001b[0m\u001b[0margs\u001b[0m\u001b[0;34m,\u001b[0m \u001b[0;34m**\u001b[0m\u001b[0mkwds\u001b[0m\u001b[0;34m)\u001b[0m\u001b[0;34m\u001b[0m\u001b[0;34m\u001b[0m\u001b[0m\n\u001b[0m\u001b[1;32m    829\u001b[0m       \u001b[0mcompiler\u001b[0m \u001b[0;34m=\u001b[0m \u001b[0;34m\"xla\"\u001b[0m \u001b[0;32mif\u001b[0m \u001b[0mself\u001b[0m\u001b[0;34m.\u001b[0m\u001b[0m_experimental_compile\u001b[0m \u001b[0;32melse\u001b[0m \u001b[0;34m\"nonXla\"\u001b[0m\u001b[0;34m\u001b[0m\u001b[0;34m\u001b[0m\u001b[0m\n\u001b[1;32m    830\u001b[0m       \u001b[0mnew_tracing_count\u001b[0m \u001b[0;34m=\u001b[0m \u001b[0mself\u001b[0m\u001b[0;34m.\u001b[0m\u001b[0mexperimental_get_tracing_count\u001b[0m\u001b[0;34m(\u001b[0m\u001b[0;34m)\u001b[0m\u001b[0;34m\u001b[0m\u001b[0;34m\u001b[0m\u001b[0m\n",
            "\u001b[0;32m/usr/local/lib/python3.7/dist-packages/tensorflow/python/eager/def_function.py\u001b[0m in \u001b[0;36m_call\u001b[0;34m(self, *args, **kwds)\u001b[0m\n\u001b[1;32m    853\u001b[0m       \u001b[0;31m# In this case we have created variables on the first call, so we run the\u001b[0m\u001b[0;34m\u001b[0m\u001b[0;34m\u001b[0m\u001b[0;34m\u001b[0m\u001b[0m\n\u001b[1;32m    854\u001b[0m       \u001b[0;31m# defunned version which is guaranteed to never create variables.\u001b[0m\u001b[0;34m\u001b[0m\u001b[0;34m\u001b[0m\u001b[0;34m\u001b[0m\u001b[0m\n\u001b[0;32m--> 855\u001b[0;31m       \u001b[0;32mreturn\u001b[0m \u001b[0mself\u001b[0m\u001b[0;34m.\u001b[0m\u001b[0m_stateless_fn\u001b[0m\u001b[0;34m(\u001b[0m\u001b[0;34m*\u001b[0m\u001b[0margs\u001b[0m\u001b[0;34m,\u001b[0m \u001b[0;34m**\u001b[0m\u001b[0mkwds\u001b[0m\u001b[0;34m)\u001b[0m  \u001b[0;31m# pylint: disable=not-callable\u001b[0m\u001b[0;34m\u001b[0m\u001b[0;34m\u001b[0m\u001b[0m\n\u001b[0m\u001b[1;32m    856\u001b[0m     \u001b[0;32melif\u001b[0m \u001b[0mself\u001b[0m\u001b[0;34m.\u001b[0m\u001b[0m_stateful_fn\u001b[0m \u001b[0;32mis\u001b[0m \u001b[0;32mnot\u001b[0m \u001b[0;32mNone\u001b[0m\u001b[0;34m:\u001b[0m\u001b[0;34m\u001b[0m\u001b[0;34m\u001b[0m\u001b[0m\n\u001b[1;32m    857\u001b[0m       \u001b[0;31m# Release the lock early so that multiple threads can perform the call\u001b[0m\u001b[0;34m\u001b[0m\u001b[0;34m\u001b[0m\u001b[0;34m\u001b[0m\u001b[0m\n",
            "\u001b[0;32m/usr/local/lib/python3.7/dist-packages/tensorflow/python/eager/function.py\u001b[0m in \u001b[0;36m__call__\u001b[0;34m(self, *args, **kwargs)\u001b[0m\n\u001b[1;32m   2941\u001b[0m        filtered_flat_args) = self._maybe_define_function(args, kwargs)\n\u001b[1;32m   2942\u001b[0m     return graph_function._call_flat(\n\u001b[0;32m-> 2943\u001b[0;31m         filtered_flat_args, captured_inputs=graph_function.captured_inputs)  # pylint: disable=protected-access\n\u001b[0m\u001b[1;32m   2944\u001b[0m \u001b[0;34m\u001b[0m\u001b[0m\n\u001b[1;32m   2945\u001b[0m   \u001b[0;34m@\u001b[0m\u001b[0mproperty\u001b[0m\u001b[0;34m\u001b[0m\u001b[0;34m\u001b[0m\u001b[0m\n",
            "\u001b[0;32m/usr/local/lib/python3.7/dist-packages/tensorflow/python/eager/function.py\u001b[0m in \u001b[0;36m_call_flat\u001b[0;34m(self, args, captured_inputs, cancellation_manager)\u001b[0m\n\u001b[1;32m   1917\u001b[0m       \u001b[0;31m# No tape is watching; skip to running the function.\u001b[0m\u001b[0;34m\u001b[0m\u001b[0;34m\u001b[0m\u001b[0;34m\u001b[0m\u001b[0m\n\u001b[1;32m   1918\u001b[0m       return self._build_call_outputs(self._inference_function.call(\n\u001b[0;32m-> 1919\u001b[0;31m           ctx, args, cancellation_manager=cancellation_manager))\n\u001b[0m\u001b[1;32m   1920\u001b[0m     forward_backward = self._select_forward_and_backward_functions(\n\u001b[1;32m   1921\u001b[0m         \u001b[0margs\u001b[0m\u001b[0;34m,\u001b[0m\u001b[0;34m\u001b[0m\u001b[0;34m\u001b[0m\u001b[0m\n",
            "\u001b[0;32m/usr/local/lib/python3.7/dist-packages/tensorflow/python/eager/function.py\u001b[0m in \u001b[0;36mcall\u001b[0;34m(self, ctx, args, cancellation_manager)\u001b[0m\n\u001b[1;32m    558\u001b[0m               \u001b[0minputs\u001b[0m\u001b[0;34m=\u001b[0m\u001b[0margs\u001b[0m\u001b[0;34m,\u001b[0m\u001b[0;34m\u001b[0m\u001b[0;34m\u001b[0m\u001b[0m\n\u001b[1;32m    559\u001b[0m               \u001b[0mattrs\u001b[0m\u001b[0;34m=\u001b[0m\u001b[0mattrs\u001b[0m\u001b[0;34m,\u001b[0m\u001b[0;34m\u001b[0m\u001b[0;34m\u001b[0m\u001b[0m\n\u001b[0;32m--> 560\u001b[0;31m               ctx=ctx)\n\u001b[0m\u001b[1;32m    561\u001b[0m         \u001b[0;32melse\u001b[0m\u001b[0;34m:\u001b[0m\u001b[0;34m\u001b[0m\u001b[0;34m\u001b[0m\u001b[0m\n\u001b[1;32m    562\u001b[0m           outputs = execute.execute_with_cancellation(\n",
            "\u001b[0;32m/usr/local/lib/python3.7/dist-packages/tensorflow/python/eager/execute.py\u001b[0m in \u001b[0;36mquick_execute\u001b[0;34m(op_name, num_outputs, inputs, attrs, ctx, name)\u001b[0m\n\u001b[1;32m     58\u001b[0m     \u001b[0mctx\u001b[0m\u001b[0;34m.\u001b[0m\u001b[0mensure_initialized\u001b[0m\u001b[0;34m(\u001b[0m\u001b[0;34m)\u001b[0m\u001b[0;34m\u001b[0m\u001b[0;34m\u001b[0m\u001b[0m\n\u001b[1;32m     59\u001b[0m     tensors = pywrap_tfe.TFE_Py_Execute(ctx._handle, device_name, op_name,\n\u001b[0;32m---> 60\u001b[0;31m                                         inputs, attrs, num_outputs)\n\u001b[0m\u001b[1;32m     61\u001b[0m   \u001b[0;32mexcept\u001b[0m \u001b[0mcore\u001b[0m\u001b[0;34m.\u001b[0m\u001b[0m_NotOkStatusException\u001b[0m \u001b[0;32mas\u001b[0m \u001b[0me\u001b[0m\u001b[0;34m:\u001b[0m\u001b[0;34m\u001b[0m\u001b[0;34m\u001b[0m\u001b[0m\n\u001b[1;32m     62\u001b[0m     \u001b[0;32mif\u001b[0m \u001b[0mname\u001b[0m \u001b[0;32mis\u001b[0m \u001b[0;32mnot\u001b[0m \u001b[0;32mNone\u001b[0m\u001b[0;34m:\u001b[0m\u001b[0;34m\u001b[0m\u001b[0;34m\u001b[0m\u001b[0m\n",
            "\u001b[0;31mKeyboardInterrupt\u001b[0m: "
          ]
        }
      ]
    },
    {
      "cell_type": "code",
      "metadata": {
        "colab": {
          "background_save": true
        },
        "id": "pmxso22uBMSK",
        "outputId": "2a4943e9-44cf-4ed1-c79c-a51190042b58"
      },
      "source": [
        "# Performance Evaluation\n",
        "history.history.keys()"
      ],
      "execution_count": null,
      "outputs": [
        {
          "output_type": "execute_result",
          "data": {
            "text/plain": [
              "dict_keys(['loss', 'accuracy', 'val_loss', 'val_accuracy'])"
            ]
          },
          "metadata": {
            "tags": []
          },
          "execution_count": 0
        }
      ]
    },
    {
      "cell_type": "code",
      "metadata": {
        "id": "DShnBg6sBMSc"
      },
      "source": [
        "# Plot graph between training and validation loss\n",
        "plt.plot(history.history['loss'])\n",
        "plt.plot(history.history['val_loss'])\n",
        "plt.legend(['Training', 'Validation'])\n",
        "plt.title('Training and Validation Losses')\n",
        "plt.xlabel('epoch')"
      ],
      "execution_count": null,
      "outputs": []
    },
    {
      "cell_type": "code",
      "metadata": {
        "id": "WMNaETPYBMTG"
      },
      "source": [
        "# Plot graph between training and validation accuracy\n",
        "plt.plot(history.history['accuracy'])\n",
        "plt.plot(history.history['val_accuracy'])\n",
        "plt.legend(['Training', 'Validation'])\n",
        "plt.xlabel('epoch')"
      ],
      "execution_count": null,
      "outputs": []
    },
    {
      "cell_type": "markdown",
      "metadata": {
        "id": "af9jzxSuZ4E0"
      },
      "source": [
        "# Transfer Learning"
      ]
    },
    {
      "cell_type": "code",
      "metadata": {
        "id": "XNtwd6_aHl96"
      },
      "source": [
        "from tensorflow.keras import models\n",
        "from tensorflow.keras import layers\n",
        "\n",
        "# Initializing the CNN\n",
        "cnn = models.Sequential()\n",
        "cnn.add(conv_base)  # Add VGG16 layer\n",
        "cnn.add(layers.Flatten())\n",
        "cnn.add(layers.Dense(256, activation='relu'))\n",
        "cnn.add(layers.Dense(1, activation='sigmoid'))\n",
        "\n",
        "cnn.summary()"
      ],
      "execution_count": null,
      "outputs": []
    },
    {
      "cell_type": "code",
      "metadata": {
        "id": "kx_xdoZhZ092"
      },
      "source": [
        "# Freeze VGG16 layer\n",
        "conv_base.trainable = False\n",
        "cnn.summary()"
      ],
      "execution_count": null,
      "outputs": []
    },
    {
      "cell_type": "code",
      "metadata": {
        "id": "U4XfLe6gafgH"
      },
      "source": [
        "# Compile the Model\n",
        "model.compile(Adam(lr=0.001), loss='binary_crossentropy', metrics=['accuracy', tf.keras.metrics.Precision(), tf.keras.metrics.Recall()])"
      ],
      "execution_count": null,
      "outputs": []
    },
    {
      "cell_type": "code",
      "metadata": {
        "id": "2-pLYC3hafbU"
      },
      "source": [
        "# Stopping our training if val_accuracy doesn't improve after 20 epochs\n",
        " checkpoint_ES = tf.keras.callbacks.EarlyStopping(monitor='val_accuracy', \n",
        "                                                  patience=20)\n",
        " \n",
        "# Saving the whole model architecture and weights\n",
        "checkpoint_MC = tf.keras.callbacks.ModelCheckpoint('models/model_{val_accuracy:.3f}.h5',\n",
        "                                                   save_best_only=True,\n",
        "                                                   save_weights_only=False,\n",
        "                                                   monitor='val_accuracy')"
      ],
      "execution_count": null,
      "outputs": []
    },
    {
      "cell_type": "code",
      "metadata": {
        "id": "0vN4jP2Eafnr"
      },
      "source": [
        "# Training the CNN\n",
        "history = cnn.fit(x = train_generator,\n",
        "                  validation_data = test_generator,\n",
        "                  epochs = 80,\n",
        "                  callbacks=[checkpoint_ES, checkpoint_MC])"
      ],
      "execution_count": null,
      "outputs": []
    },
    {
      "cell_type": "code",
      "metadata": {
        "id": "qwCfgQOYBMTT"
      },
      "source": [
        "# Getting test accuracy and loss\n",
        "model = \n",
        "test_loss, test_acc = model.evaluate(test_generator)\n",
        "print('Test loss: {} Test Acc: {}'.format(test_loss, test_acc))"
      ],
      "execution_count": null,
      "outputs": []
    },
    {
      "cell_type": "markdown",
      "metadata": {
        "id": "DaczJx4kax4b"
      },
      "source": [
        "# Make Predictions on New Data"
      ]
    },
    {
      "cell_type": "code",
      "metadata": {
        "id": "efocy5ufBMTr"
      },
      "source": [
        "# Prediction on New Data\n",
        "from google.colab import files\n",
        "from keras.preprocessing import image\n",
        "uploaded = files.upload()\n",
        "\n",
        "for filename in uploaded:\n",
        "    # get image path\n",
        "    img_path = '/content' + filename\n",
        "    # load and resize image to 150x150\n",
        "    img = image.load_img(img_path, target_size=(150, 150))\n",
        "    # convert image to numpy array\n",
        "    images = image.img_to_array(img)\n",
        "    # expand dimension of image\n",
        "    images.np.expand_dims(images, axis=0)\n",
        "    # making prediction with model\n",
        "    prediction = model.predict(images)\n",
        "    print(filename)\n",
        "    \n",
        "    if prediction == 0:\n",
        "        print('COVID Detected')\n",
        "    else:\n",
        "        print('Report is Normal')"
      ],
      "execution_count": null,
      "outputs": []
    }
  ]
}